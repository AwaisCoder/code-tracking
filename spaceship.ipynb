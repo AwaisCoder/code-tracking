{
  "cells": [
    {
      "cell_type": "code",
      "execution_count": 120,
      "metadata": {
        "id": "R40B_l3a8luy"
      },
      "outputs": [],
      "source": [
        "# Data manipulation\n",
        "import pandas as pd\n",
        "import numpy as np\n",
        "\n",
        "# Data visualization\n",
        "import matplotlib.pyplot as plt\n",
        "import seaborn as sns\n",
        "import xgboost as xgb\n",
        "\n",
        "# Preprocessing\n",
        "from sklearn.model_selection import train_test_split\n",
        "from sklearn.impute import SimpleImputer\n",
        "from sklearn.preprocessing import StandardScaler, OneHotEncoder\n",
        "from sklearn.compose import ColumnTransformer\n",
        "from sklearn.pipeline import Pipeline\n",
        "\n",
        "# Model selection and evaluation\n",
        "from sklearn.ensemble import RandomForestClassifier, GradientBoostingClassifier\n",
        "from sklearn.linear_model import LogisticRegression\n",
        "from sklearn.metrics import accuracy_score, confusion_matrix, classification_report, roc_auc_score, roc_curve, precision_recall_curve, f1_score\n",
        "\n",
        "# Hyperparameter tuning\n",
        "from sklearn.model_selection import GridSearchCV, RandomizedSearchCV\n",
        "\n",
        "# Cross-validation\n",
        "from sklearn.model_selection import cross_val_score\n",
        "\n",
        "# Feature importance (for tree-based models)\n",
        "from sklearn.inspection import permutation_importance\n",
        "\n",
        "# Saving models\n",
        "import joblib\n"
      ]
    },
    {
      "cell_type": "code",
      "execution_count": 111,
      "metadata": {
        "colab": {
          "base_uri": "https://localhost:8080/"
        },
        "id": "2KYziSsh80JT",
        "outputId": "e0110b70-9b0c-4cb3-b172-471b0238095e"
      },
      "outputs": [
        {
          "name": "stdout",
          "output_type": "stream",
          "text": [
            "  PassengerId HomePlanet CryoSleep  Cabin  Destination   Age    VIP  \\\n",
            "0     0013_01      Earth      True  G/3/S  TRAPPIST-1e  27.0  False   \n",
            "1     0018_01      Earth     False  F/4/S  TRAPPIST-1e  19.0  False   \n",
            "2     0019_01     Europa      True  C/0/S  55 Cancri e  31.0  False   \n",
            "3     0021_01     Europa     False  C/1/S  TRAPPIST-1e  38.0  False   \n",
            "4     0023_01      Earth     False  F/5/S  TRAPPIST-1e  20.0  False   \n",
            "\n",
            "   RoomService  FoodCourt  ShoppingMall     Spa  VRDeck              Name  \n",
            "0          0.0        0.0           0.0     0.0     0.0   Nelly Carsoning  \n",
            "1          0.0        9.0           0.0  2823.0     0.0    Lerome Peckers  \n",
            "2          0.0        0.0           0.0     0.0     0.0   Sabih Unhearfus  \n",
            "3          0.0     6652.0           0.0   181.0   585.0  Meratz Caltilter  \n",
            "4         10.0        0.0         635.0     0.0     0.0   Brence Harperez  \n"
          ]
        }
      ],
      "source": [
        "# Load data\n",
        "train_data = pd.read_csv(\"train.csv\")\n",
        "test_data = pd.read_csv(\"test.csv\")\n",
        "\n",
        "# Overview of the data\n",
        "print(train_data.head())\n",
        "print(test_data.head())"
      ]
    },
    {
      "cell_type": "code",
      "execution_count": 112,
      "metadata": {},
      "outputs": [],
      "source": [
        "# Drop unnecessary columns\n",
        "columns_to_drop = [\"Destination\", \"VIP\",\"Name\"]\n",
        "train_data_cleaned = train_data.drop(columns=columns_to_drop)\n",
        "test_data_cleaned = test_data.drop(columns=columns_to_drop)\n"
      ]
    },
    {
      "cell_type": "code",
      "execution_count": 113,
      "metadata": {},
      "outputs": [
        {
          "name": "stdout",
          "output_type": "stream",
          "text": [
            "   CryoSleep       Age  Transported GroupID  Amenities  DeckRank  SideRank  \\\n",
            "0          0  0.709437            0    0001          0         9       1.0   \n",
            "1          0 -0.336717            1    0002          1         4       2.0   \n",
            "2          0  2.034566            0    0003          1         6       2.0   \n",
            "3          0  0.290975            0    0003          1         6       2.0   \n",
            "4          0 -0.894666            1    0004          1         4       2.0   \n",
            "\n",
            "   HomePlanet_Earth  HomePlanet_Europa  HomePlanet_Mars  \n",
            "0                 0                  1                0  \n",
            "1                 1                  0                0  \n",
            "2                 0                  1                0  \n",
            "3                 0                  1                0  \n",
            "4                 1                  0                0  \n",
            "  PassengerId HomePlanet CryoSleep  Cabin   Age  RoomService  FoodCourt  \\\n",
            "0     0013_01      Earth      True  G/3/S  27.0          0.0        0.0   \n",
            "1     0018_01      Earth     False  F/4/S  19.0          0.0        9.0   \n",
            "2     0019_01     Europa      True  C/0/S  31.0          0.0        0.0   \n",
            "3     0021_01     Europa     False  C/1/S  38.0          0.0     6652.0   \n",
            "4     0023_01      Earth     False  F/5/S  20.0         10.0        0.0   \n",
            "\n",
            "   ShoppingMall     Spa  VRDeck  \n",
            "0           0.0     0.0     0.0  \n",
            "1           0.0  2823.0     0.0  \n",
            "2           0.0     0.0     0.0  \n",
            "3           0.0   181.0   585.0  \n",
            "4         635.0     0.0     0.0  \n"
          ]
        }
      ],
      "source": [
        "print(train_data_cleaned.head())\n",
        "print(test_data_cleaned.head())"
      ]
    },
    {
      "cell_type": "code",
      "execution_count": 157,
      "metadata": {},
      "outputs": [
        {
          "data": {
            "image/png": "[encoded data removed]",
            "text/plain": [
              "<Figure size 1000x600 with 1 Axes>"
            ]
          },
          "metadata": {},
          "output_type": "display_data"
        }
      ],
      "source": [
        "# Combine train and test data for visualization purposes\n",
        "combined_data = pd.concat([test_data_cleaned], axis=0, ignore_index=True)\n",
        "\n",
        "# Plot missing values\n",
        "plt.figure(figsize=(10, 6))\n",
        "sns.heatmap(combined_data.isnull(), cbar=False, cmap=\"viridis\", yticklabels=False)\n",
        "plt.title(\"Missing Values in the Dataset\")\n",
        "plt.show()"
      ]
    },
    {
      "cell_type": "markdown",
      "metadata": {},
      "source": [
        "Handling Missing Values"
      ]
    },
    {
      "cell_type": "code",
      "execution_count": 126,
      "metadata": {},
      "outputs": [],
      "source": [
        "\n",
        "# Fill missing values in 'Age' with the mean\n",
        "mean_age = train_data_cleaned['Age'].mean()\n",
        "train_data_cleaned['Age'].fillna(mean_age, inplace=True)\n",
        "\n",
        "mean_age = test_data_cleaned['Age'].mean()\n",
        "test_data_cleaned['Age'].fillna(mean_age, inplace=True)\n",
        "\n",
        "# Fill missing values in 'HomePlanet' with the mode (Earth)\n",
        "test_data_cleaned['HomePlanet'].fillna('Earth', inplace=True)\n",
        "train_data_cleaned['HomePlanet'].fillna('Earth', inplace=True)\n"
      ]
    },
    {
      "cell_type": "code",
      "execution_count": 128,
      "metadata": {},
      "outputs": [],
      "source": [
        "# Define a function to impute CryoSleep based on amenities usage\n",
        "def impute_cryosleep(row):\n",
        "    # Check if any of the amenities have a spending greater than 0\n",
        "    if row[['RoomService', 'FoodCourt', 'ShoppingMall', 'Spa', 'VRDeck']].sum() == 0:\n",
        "        return True  # No spending, likely in CryoSleep\n",
        "    else:\n",
        "        return False  # Spent money, likely not in CryoSleep\n",
        "\n",
        "# Apply the function to handle missing CryoSleep values\n",
        "train_data_cleaned['CryoSleep'] = train_data_cleaned.apply(\n",
        "    lambda row: impute_cryosleep(row) if pd.isnull(row['CryoSleep']) else row['CryoSleep'], axis=1\n",
        ")"
      ]
    },
    {
      "cell_type": "code",
      "execution_count": 130,
      "metadata": {},
      "outputs": [
        {
          "name": "stdout",
          "output_type": "stream",
          "text": [
            "0    0013\n",
            "1    0018\n",
            "2    0019\n",
            "3    0021\n",
            "4    0023\n",
            "Name: GroupID, dtype: object\n"
          ]
        }
      ],
      "source": [
        "# Extract GroupID from PassengerId\n",
        "#train_data_cleaned['GroupID'] = train_data_cleaned['PassengerId'].str.split('_').str[0]\n",
        "\n",
        "print(train_data_cleaned['GroupID'].head())\n"
      ]
    },
    {
      "cell_type": "code",
      "execution_count": 52,
      "metadata": {},
      "outputs": [],
      "source": [
        "#Drop 'PassengerId' and keep 'GroupID' for modeling purposes\n",
        "#train_data_cleaned.drop('PassengerId', axis=1, inplace=True)"
      ]
    },
    {
      "cell_type": "code",
      "execution_count": 131,
      "metadata": {},
      "outputs": [],
      "source": [
        "# For missing 'Cabin', assign the same cabin as another passenger in the same group or a default value if no cabins are available\n",
        "def impute_cabin(row):\n",
        "    if pd.isnull(row['Cabin']):\n",
        "        group_id = row['GroupID']\n",
        "        # Get non-null cabins for the same group\n",
        "        group_cabin_values = train_data_cleaned[train_data_cleaned['GroupID'] == group_id]['Cabin'].dropna()\n",
        "        \n",
        "        if not group_cabin_values.empty:\n",
        "            # If there are non-null cabins, assign the first one\n",
        "            return group_cabin_values.iloc[0]\n",
        "        else:\n",
        "            # If there are no non-null cabins in the group, assign 'Unknown'\n",
        "            return 'Unknown'\n",
        "    else:\n",
        "        return row['Cabin']\n",
        "\n",
        "# Apply the function to handle missing 'Cabin' values\n",
        "train_data_cleaned['Cabin'] = train_data_cleaned.apply(impute_cabin, axis=1)\n"
      ]
    },
    {
      "cell_type": "code",
      "execution_count": 135,
      "metadata": {},
      "outputs": [],
      "source": [
        "# Set values for amenities to 0 for passengers in CryoSleep\n",
        "train_data_cleaned.loc[train_data_cleaned['CryoSleep'] == True, \n",
        "                       ['RoomService', 'FoodCourt', 'ShoppingMall', 'Spa', 'VRDeck']] = 0"
      ]
    },
    {
      "cell_type": "code",
      "execution_count": 142,
      "metadata": {},
      "outputs": [],
      "source": [
        "# Combine the 5 amenities columns into one binary column 'Amenities'\n",
        "train_data_cleaned['Amenities'] = train_data_cleaned[['RoomService', 'FoodCourt', 'ShoppingMall', 'Spa', 'VRDeck']].apply(\n",
        "    lambda row: 1 if (row > 0).any() else 0, axis=1)\n"
      ]
    },
    {
      "cell_type": "code",
      "execution_count": 144,
      "metadata": {},
      "outputs": [],
      "source": [
        "# Drop the original amenity columns\n",
        "train_data_cleaned.drop(['RoomService', 'FoodCourt', 'ShoppingMall', 'Spa', 'VRDeck'], axis=1, inplace=True)"
      ]
    },
    {
      "cell_type": "code",
      "execution_count": 165,
      "metadata": {},
      "outputs": [
        {
          "name": "stdout",
          "output_type": "stream",
          "text": [
            "   PassengerId  CryoSleep       Age  Amenities  DeckRank  SideRank  \\\n",
            "0      0013_01          1 -0.118222          0         9       1.0   \n",
            "1      0018_01          0 -0.688601          1         4       2.0   \n",
            "2      0019_01          1  0.166968          0         6       2.0   \n",
            "3      0021_01          0  0.666051          1         6       2.0   \n",
            "4      0023_01          0 -0.617304          1         4       2.0   \n",
            "5      0027_01          0  0.166968          1         4       1.0   \n",
            "6      0029_01          1 -0.546006          0         4       2.0   \n",
            "7      0032_01          1 -0.617304          0         7       2.0   \n",
            "8      0032_02          1 -0.403411          0         4       2.0   \n",
            "9      0033_01          0 -0.332114          0         9       1.0   \n",
            "10     0037_01          0 -0.688601          0         9       1.0   \n",
            "11     0040_01          0  1.165133          1         9       1.0   \n",
            "12     0040_02          0  1.093835          1         4       1.0   \n",
            "13     0042_01          1  1.236430          0         7       2.0   \n",
            "14     0046_01          0 -0.546006          1         4       1.0   \n",
            "15     0046_02          0 -0.118222          1         5       2.0   \n",
            "16     0046_03          0 -0.617304          1         4       1.0   \n",
            "17     0047_01          1  1.093835          0         4       1.0   \n",
            "18     0047_02          0  0.024373          0         4       1.0   \n",
            "19     0047_03          0  0.808645          1         7       1.0   \n",
            "\n",
            "    HomePlanet_Earth  HomePlanet_Europa  HomePlanet_Mars  \n",
            "0                  1                  0                0  \n",
            "1                  1                  0                0  \n",
            "2                  0                  1                0  \n",
            "3                  0                  1                0  \n",
            "4                  1                  0                0  \n",
            "5                  1                  0                0  \n",
            "6                  0                  1                0  \n",
            "7                  0                  1                0  \n",
            "8                  0                  1                0  \n",
            "9                  1                  0                0  \n",
            "10                 1                  0                0  \n",
            "11                 0                  1                0  \n",
            "12                 0                  1                0  \n",
            "13                 0                  0                1  \n",
            "14                 1                  0                0  \n",
            "15                 1                  0                0  \n",
            "16                 1                  0                0  \n",
            "17                 0                  1                0  \n",
            "18                 0                  1                0  \n",
            "19                 0                  1                0  \n"
          ]
        }
      ],
      "source": [
        "print(test_data_cleaned.head(20))"
      ]
    },
    {
      "cell_type": "code",
      "execution_count": 148,
      "metadata": {},
      "outputs": [],
      "source": [
        "# Convert 'CryoSleep' and 'Transported' columns to numeric (1 and 0)\n",
        "train_data_cleaned['CryoSleep'] = train_data_cleaned['CryoSleep'].astype(int)\n",
        "train_data_cleaned['Transported'] = train_data_cleaned['Transported'].astype(int)\n"
      ]
    },
    {
      "cell_type": "code",
      "execution_count": 150,
      "metadata": {},
      "outputs": [],
      "source": [
        "# Split 'Cabin' into 'Deck' and 'Side'\n",
        "train_data_cleaned['Deck'] = train_data_cleaned['Cabin'].str.split('/').str[0]  # Extract deck\n",
        "train_data_cleaned['Side'] = train_data_cleaned['Cabin'].str.split('/').str[2]  # Extract side\n",
        "\n",
        "# Drop the original 'Cabin' column\n",
        "train_data_cleaned.drop(columns=['Cabin'], inplace=True)"
      ]
    },
    {
      "cell_type": "code",
      "execution_count": 152,
      "metadata": {},
      "outputs": [
        {
          "ename": "KeyError",
          "evalue": "'Column not found: Transported'",
          "output_type": "error",
          "traceback": [
            "\u001b[1;31m---------------------------------------------------------------------------\u001b[0m",
            "\u001b[1;31mKeyError\u001b[0m                                  Traceback (most recent call last)",
            "Cell \u001b[1;32mIn[152], line 2\u001b[0m\n\u001b[0;32m      1\u001b[0m \u001b[38;5;66;03m# Calculate danger ranking for Deck based on Transported rate\u001b[39;00m\n\u001b[1;32m----> 2\u001b[0m deck_danger \u001b[38;5;241m=\u001b[39m \u001b[43mtest_data_cleaned\u001b[49m\u001b[38;5;241;43m.\u001b[39;49m\u001b[43mgroupby\u001b[49m\u001b[43m(\u001b[49m\u001b[38;5;124;43m'\u001b[39;49m\u001b[38;5;124;43mDeck\u001b[39;49m\u001b[38;5;124;43m'\u001b[39;49m\u001b[43m)\u001b[49m\u001b[43m[\u001b[49m\u001b[38;5;124;43m'\u001b[39;49m\u001b[38;5;124;43mTransported\u001b[39;49m\u001b[38;5;124;43m'\u001b[39;49m\u001b[43m]\u001b[49m\u001b[38;5;241m.\u001b[39mmean()\u001b[38;5;241m.\u001b[39msort_values(ascending\u001b[38;5;241m=\u001b[39m\u001b[38;5;28;01mTrue\u001b[39;00m)\u001b[38;5;241m.\u001b[39mreset_index()\n\u001b[0;32m      4\u001b[0m \u001b[38;5;66;03m# Assign ranks (1 is most dangerous, higher numbers are safer)\u001b[39;00m\n\u001b[0;32m      5\u001b[0m deck_danger[\u001b[38;5;124m'\u001b[39m\u001b[38;5;124mDangerRank\u001b[39m\u001b[38;5;124m'\u001b[39m] \u001b[38;5;241m=\u001b[39m \u001b[38;5;28mrange\u001b[39m(\u001b[38;5;241m1\u001b[39m, \u001b[38;5;28mlen\u001b[39m(deck_danger) \u001b[38;5;241m+\u001b[39m \u001b[38;5;241m1\u001b[39m)\n",
            "File \u001b[1;32m~\\AppData\\Roaming\\Python\\Python312\\site-packages\\pandas\\core\\groupby\\generic.py:1964\u001b[0m, in \u001b[0;36mDataFrameGroupBy.__getitem__\u001b[1;34m(self, key)\u001b[0m\n\u001b[0;32m   1957\u001b[0m \u001b[38;5;28;01mif\u001b[39;00m \u001b[38;5;28misinstance\u001b[39m(key, \u001b[38;5;28mtuple\u001b[39m) \u001b[38;5;129;01mand\u001b[39;00m \u001b[38;5;28mlen\u001b[39m(key) \u001b[38;5;241m>\u001b[39m \u001b[38;5;241m1\u001b[39m:\n\u001b[0;32m   1958\u001b[0m     \u001b[38;5;66;03m# if len == 1, then it becomes a SeriesGroupBy and this is actually\u001b[39;00m\n\u001b[0;32m   1959\u001b[0m     \u001b[38;5;66;03m# valid syntax, so don't raise\u001b[39;00m\n\u001b[0;32m   1960\u001b[0m     \u001b[38;5;28;01mraise\u001b[39;00m \u001b[38;5;167;01mValueError\u001b[39;00m(\n\u001b[0;32m   1961\u001b[0m         \u001b[38;5;124m\"\u001b[39m\u001b[38;5;124mCannot subset columns with a tuple with more than one element. \u001b[39m\u001b[38;5;124m\"\u001b[39m\n\u001b[0;32m   1962\u001b[0m         \u001b[38;5;124m\"\u001b[39m\u001b[38;5;124mUse a list instead.\u001b[39m\u001b[38;5;124m\"\u001b[39m\n\u001b[0;32m   1963\u001b[0m     )\n\u001b[1;32m-> 1964\u001b[0m \u001b[38;5;28;01mreturn\u001b[39;00m \u001b[38;5;28;43msuper\u001b[39;49m\u001b[43m(\u001b[49m\u001b[43m)\u001b[49m\u001b[38;5;241;43m.\u001b[39;49m\u001b[38;5;21;43m__getitem__\u001b[39;49m\u001b[43m(\u001b[49m\u001b[43mkey\u001b[49m\u001b[43m)\u001b[49m\n",
            "File \u001b[1;32m~\\AppData\\Roaming\\Python\\Python312\\site-packages\\pandas\\core\\base.py:244\u001b[0m, in \u001b[0;36mSelectionMixin.__getitem__\u001b[1;34m(self, key)\u001b[0m\n\u001b[0;32m    242\u001b[0m \u001b[38;5;28;01melse\u001b[39;00m:\n\u001b[0;32m    243\u001b[0m     \u001b[38;5;28;01mif\u001b[39;00m key \u001b[38;5;129;01mnot\u001b[39;00m \u001b[38;5;129;01min\u001b[39;00m \u001b[38;5;28mself\u001b[39m\u001b[38;5;241m.\u001b[39mobj:\n\u001b[1;32m--> 244\u001b[0m         \u001b[38;5;28;01mraise\u001b[39;00m \u001b[38;5;167;01mKeyError\u001b[39;00m(\u001b[38;5;124mf\u001b[39m\u001b[38;5;124m\"\u001b[39m\u001b[38;5;124mColumn not found: \u001b[39m\u001b[38;5;132;01m{\u001b[39;00mkey\u001b[38;5;132;01m}\u001b[39;00m\u001b[38;5;124m\"\u001b[39m)\n\u001b[0;32m    245\u001b[0m     ndim \u001b[38;5;241m=\u001b[39m \u001b[38;5;28mself\u001b[39m\u001b[38;5;241m.\u001b[39mobj[key]\u001b[38;5;241m.\u001b[39mndim\n\u001b[0;32m    246\u001b[0m     \u001b[38;5;28;01mreturn\u001b[39;00m \u001b[38;5;28mself\u001b[39m\u001b[38;5;241m.\u001b[39m_gotitem(key, ndim\u001b[38;5;241m=\u001b[39mndim)\n",
            "\u001b[1;31mKeyError\u001b[0m: 'Column not found: Transported'"
          ]
        }
      ],
      "source": [
        "# Calculate danger ranking for Deck based on Transported rate\n",
        "deck_danger = train_data_cleaned.groupby('Deck')['Transported'].mean().sort_values(ascending=True).reset_index()\n",
        "\n",
        "# Assign ranks (1 is most dangerous, higher numbers are safer)\n",
        "deck_danger['DangerRank'] = range(1, len(deck_danger) + 1)\n",
        "\n",
        "# Map the danger rank back to the Deck column\n",
        "deck_rank_map = dict(zip(deck_danger['Deck'], deck_danger['DangerRank']))\n",
        "\n",
        "# Apply the rank mapping to the DeckRank column\n",
        "train_data_cleaned['DeckRank'] = train_data_cleaned['Deck'].map(deck_rank_map)\n"
      ]
    },
    {
      "cell_type": "code",
      "execution_count": 153,
      "metadata": {},
      "outputs": [],
      "source": [
        "# Fill missing features or create approximations if necessary\n",
        "test_data_cleaned['DeckRank'] = train_data_cleaned['DeckRank']\n",
        "test_data_cleaned['SideRank'] = train_data_cleaned['SideRank']\n"
      ]
    },
    {
      "cell_type": "code",
      "execution_count": 88,
      "metadata": {},
      "outputs": [],
      "source": [
        "# Calculate danger ranking for Side based on Transported rate\n",
        "side_danger = train_data_cleaned.groupby('Side')['Transported'].mean().sort_values(ascending=True).reset_index()\n",
        "\n",
        "# Assign ranks (1 is safest, higher numbers are more dangerous)\n",
        "side_danger['DangerRank'] = range(1, len(side_danger) + 1)\n",
        "\n",
        "# Map the danger rank back to the Side column\n",
        "side_rank_map = dict(zip(side_danger['Side'], side_danger['DangerRank']))\n",
        "\n",
        "# Apply the rank mapping to the SideRank column\n",
        "train_data_cleaned['SideRank'] = train_data_cleaned['Side'].map(side_rank_map)\n"
      ]
    },
    {
      "cell_type": "code",
      "execution_count": 91,
      "metadata": {},
      "outputs": [],
      "source": [
        "# Fill missing values (NaNs) in SideRank with the mode (most frequent value)\n",
        "side_mode = train_data_cleaned['SideRank'].mode()[0]\n",
        "train_data_cleaned['SideRank'].fillna(side_mode, inplace=True)\n"
      ]
    },
    {
      "cell_type": "code",
      "execution_count": 166,
      "metadata": {},
      "outputs": [],
      "source": [
        "#test_data_cleaned.drop(columns=['GroupID'], inplace=True)"
      ]
    },
    {
      "cell_type": "code",
      "execution_count": 100,
      "metadata": {},
      "outputs": [
        {
          "name": "stdout",
          "output_type": "stream",
          "text": [
            "['Earth' 'Europa' 'Mars']\n"
          ]
        }
      ],
      "source": [
        "print(train_data_cleaned['HomePlanet'].unique())"
      ]
    },
    {
      "cell_type": "code",
      "execution_count": 161,
      "metadata": {},
      "outputs": [],
      "source": [
        "# One-hot encode the 'HomePlanet' column\n",
        "train_data_cleaned = pd.get_dummies(train_data_cleaned, columns=['HomePlanet'], prefix=['HomePlanet'])"
      ]
    },
    {
      "cell_type": "code",
      "execution_count": 162,
      "metadata": {},
      "outputs": [],
      "source": [
        "# Convert boolean to integer (1 for True, 0 for False)\n",
        "train_data_cleaned['HomePlanet_Mars'] = train_data_cleaned['HomePlanet_Mars'].astype(int)\n",
        "train_data_cleaned['HomePlanet_Earth'] = train_data_cleaned['HomePlanet_Earth'].astype(int)\n",
        "train_data_cleaned['HomePlanet_Europa'] = train_data_cleaned['HomePlanet_Europa'].astype(int)\n"
      ]
    },
    {
      "cell_type": "code",
      "execution_count": 164,
      "metadata": {},
      "outputs": [],
      "source": [
        "# Initialize the scaler\n",
        "scaler = StandardScaler()\n",
        "\n",
        "# Fit and transform the Age column\n",
        "test_data_cleaned['Age'] = scaler.fit_transform(test_data_cleaned[['Age']])"
      ]
    },
    {
      "cell_type": "code",
      "execution_count": 167,
      "metadata": {},
      "outputs": [
        {
          "name": "stdout",
          "output_type": "stream",
          "text": [
            "   CryoSleep       Age  Transported  Amenities  DeckRank  SideRank  \\\n",
            "0          0  0.709437            0          0         9       1.0   \n",
            "1          0 -0.336717            1          1         4       2.0   \n",
            "2          0  2.034566            0          1         6       2.0   \n",
            "3          0  0.290975            0          1         6       2.0   \n",
            "4          0 -0.894666            1          1         4       2.0   \n",
            "\n",
            "   HomePlanet_Earth  HomePlanet_Europa  HomePlanet_Mars  \n",
            "0                 0                  1                0  \n",
            "1                 1                  0                0  \n",
            "2                 0                  1                0  \n",
            "3                 0                  1                0  \n",
            "4                 1                  0                0  \n"
          ]
        }
      ],
      "source": [
        "print(train_data_cleaned.head())"
      ]
    },
    {
      "cell_type": "markdown",
      "metadata": {},
      "source": [
        "Training"
      ]
    },
    {
      "cell_type": "code",
      "execution_count": 116,
      "metadata": {},
      "outputs": [
        {
          "name": "stdout",
          "output_type": "stream",
          "text": [
            "Accuracy: 0.7061529614721104\n",
            "AUC-ROC: 0.7065690157389696\n",
            "Classification Report:\n",
            "              precision    recall  f1-score   support\n",
            "\n",
            "           0       0.69      0.75      0.72       861\n",
            "           1       0.73      0.66      0.70       878\n",
            "\n",
            "    accuracy                           0.71      1739\n",
            "   macro avg       0.71      0.71      0.71      1739\n",
            "weighted avg       0.71      0.71      0.71      1739\n",
            "\n",
            "Feature Importances:\n",
            "             Feature  Importance\n",
            "1                Age    0.397749\n",
            "2          Amenities    0.233595\n",
            "0          CryoSleep    0.180527\n",
            "3           DeckRank    0.097162\n",
            "5   HomePlanet_Earth    0.031830\n",
            "4           SideRank    0.029444\n",
            "6  HomePlanet_Europa    0.019300\n",
            "7    HomePlanet_Mars    0.010393\n"
          ]
        }
      ],
      "source": [
        "\n",
        "# Split the data into features (X) and target (y)\n",
        "X = train_data_cleaned.drop(columns=['Transported', 'GroupID'])  # Drop the target and 'GroupID' for now\n",
        "y = train_data_cleaned['Transported']\n",
        "\n",
        "# Train-test split\n",
        "X_train, X_val, y_train, y_val = train_test_split(X, y, test_size=0.2, random_state=42)\n",
        "\n",
        "# Initialize and train the Random Forest Classifier\n",
        "rf_model = RandomForestClassifier(random_state=42)\n",
        "rf_model.fit(X_train, y_train)\n",
        "\n",
        "# Predict on validation set\n",
        "y_pred = rf_model.predict(X_val)\n",
        "\n",
        "# Evaluate the model\n",
        "print(\"Accuracy:\", accuracy_score(y_val, y_pred))\n",
        "print(\"AUC-ROC:\", roc_auc_score(y_val, y_pred))\n",
        "print(\"Classification Report:\")\n",
        "print(classification_report(y_val, y_pred))\n",
        "\n",
        "# Feature Importance (to understand the influence of GroupID and Amenities)\n",
        "feature_importances = rf_model.feature_importances_\n",
        "features = X.columns\n",
        "importance_df = pd.DataFrame({\n",
        "    'Feature': features,\n",
        "    'Importance': feature_importances\n",
        "}).sort_values(by='Importance', ascending=False)\n",
        "\n",
        "print(\"Feature Importances:\")\n",
        "print(importance_df)\n"
      ]
    },
    {
      "cell_type": "code",
      "execution_count": 169,
      "metadata": {},
      "outputs": [
        {
          "name": "stderr",
          "output_type": "stream",
          "text": [
            "C:\\Users\\AWAIS\\AppData\\Roaming\\Python\\Python312\\site-packages\\xgboost\\core.py:158: UserWarning: [18:47:09] WARNING: C:\\buildkite-agent\\builds\\buildkite-windows-cpu-autoscaling-group-i-0c55ff5f71b100e98-1\\xgboost\\xgboost-ci-windows\\src\\learner.cc:740: \n",
            "Parameters: { \"use_label_encoder\" } are not used.\n",
            "\n",
            "  warnings.warn(smsg, UserWarning)\n"
          ]
        },
        {
          "name": "stdout",
          "output_type": "stream",
          "text": [
            "Accuracy: 0.7268545140885566\n",
            "AUC-ROC: 0.7962929157439963\n",
            "Classification Report:\n",
            "              precision    recall  f1-score   support\n",
            "\n",
            "           0       0.69      0.80      0.74       861\n",
            "           1       0.77      0.66      0.71       878\n",
            "\n",
            "    accuracy                           0.73      1739\n",
            "   macro avg       0.73      0.73      0.73      1739\n",
            "weighted avg       0.73      0.73      0.73      1739\n",
            "\n",
            "Feature Importances:\n",
            "             Feature  Importance\n",
            "2          Amenities    0.820436\n",
            "5   HomePlanet_Earth    0.084939\n",
            "0          CryoSleep    0.026700\n",
            "6  HomePlanet_Europa    0.018119\n",
            "3           DeckRank    0.017314\n",
            "4           SideRank    0.014183\n",
            "7    HomePlanet_Mars    0.010376\n",
            "1                Age    0.007933\n"
          ]
        },
        {
          "data": {
            "image/png": "[encoded data removed]",
            "text/plain": [
              "<Figure size 1000x600 with 1 Axes>"
            ]
          },
          "metadata": {},
          "output_type": "display_data"
        }
      ],
      "source": [
        "# Split the data into features (X) and target (y)\n",
        "X = train_data_cleaned.drop(columns=['Transported'])  # Drop target\n",
        "y = train_data_cleaned['Transported']\n",
        "\n",
        "# Split into train and test sets\n",
        "X_train, X_test, y_train, y_test = train_test_split(X, y, test_size=0.2, random_state=42)\n",
        "\n",
        "# Train XGBoost model\n",
        "model = xgb.XGBClassifier(use_label_encoder=False, eval_metric='logloss')\n",
        "model.fit(X_train, y_train)\n",
        "\n",
        "# Predictions\n",
        "y_pred = model.predict(X_test)\n",
        "y_prob = model.predict_proba(X_test)[:, 1]  # Probability for ROC-AUC\n",
        "\n",
        "# Evaluate model\n",
        "accuracy = accuracy_score(y_test, y_pred)\n",
        "roc_auc = roc_auc_score(y_test, y_prob)\n",
        "class_report = classification_report(y_test, y_pred)\n",
        "\n",
        "# Feature importance\n",
        "feature_importances = model.feature_importances_\n",
        "\n",
        "# Output the results\n",
        "print(f\"Accuracy: {accuracy}\")\n",
        "print(f\"AUC-ROC: {roc_auc}\")\n",
        "print(\"Classification Report:\")\n",
        "print(class_report)\n",
        "\n",
        "\n",
        "feat_importance_df = pd.DataFrame({\n",
        "    'Feature': X.columns,\n",
        "    'Importance': feature_importances\n",
        "}).sort_values(by='Importance', ascending=False)\n",
        "\n",
        "print(\"Feature Importances:\")\n",
        "print(feat_importance_df)\n",
        "\n",
        "# Plotting Feature Importance\n",
        "plt.figure(figsize=(10, 6))\n",
        "plt.barh(feat_importance_df['Feature'], feat_importance_df['Importance'])\n",
        "plt.xlabel('Feature Importance')\n",
        "plt.title('XGBoost Feature Importance')\n",
        "plt.show()"
      ]
    },
    {
      "cell_type": "code",
      "execution_count": 170,
      "metadata": {},
      "outputs": [
        {
          "name": "stdout",
          "output_type": "stream",
          "text": [
            "Submission file created: submission8.csv\n"
          ]
        }
      ],
      "source": [
        "# Make predictions on the test set\n",
        "y_test_pred = model.predict(test_data_cleaned.drop(columns=['PassengerId']))\n",
        "\n",
        "# Create the submission DataFrame\n",
        "submission = pd.DataFrame({\n",
        "    'PassengerId': test_data_cleaned['PassengerId'],\n",
        "    'Transported': y_test_pred\n",
        "})\n",
        "\n",
        "# Save to CSV\n",
        "submission.to_csv('submission8.csv', index=False)\n",
        "\n",
        "print(\"Submission file created: submission8.csv\")"
      ]
    },
    {
      "cell_type": "code",
      "execution_count": 177,
      "metadata": {},
      "outputs": [
        {
          "name": "stdout",
          "output_type": "stream",
          "text": [
            "2\n"
          ]
        }
      ],
      "source": [
        "print(submission['Transported'].nunique())"
      ]
    },
    {
      "cell_type": "code",
      "execution_count": 178,
      "metadata": {},
      "outputs": [
        {
          "name": "stdout",
          "output_type": "stream",
          "text": [
            "  PassengerId  Transported\n",
            "0     0013_01         True\n",
            "1     0018_01        False\n",
            "2     0019_01         True\n",
            "3     0021_01        False\n",
            "4     0023_01        False\n"
          ]
        }
      ],
      "source": [
        "# Load the submission file\n",
        "submission = pd.read_csv('submission8.csv')\n",
        "\n",
        "# Convert 'Transported' column from 0/1 to boolean (True/False)\n",
        "submission['Transported'] = submission['Transported'].astype(bool)\n",
        "\n",
        "# Check the result\n",
        "print(submission.head())\n",
        "\n",
        "# Save the modified submission file\n",
        "submission.to_csv('submission8_updated.csv', index=False)"
      ]
    }
  ],
  "metadata": {
    "colab": {
      "provenance": []
    },
    "kernelspec": {
      "display_name": "Python 3",
      "name": "python3"
    },
    "language_info": {
      "codemirror_mode": {
        "name": "ipython",
        "version": 3
      },
      "file_extension": ".py",
      "mimetype": "text/x-python",
      "name": "python",
      "nbconvert_exporter": "python",
      "pygments_lexer": "ipython3",
      "version": "3.12.1"
    }
  },
  "nbformat": 4,
  "nbformat_minor": 0
}
