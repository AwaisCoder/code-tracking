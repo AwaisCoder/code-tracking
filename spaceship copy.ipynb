{
  "cells": [
    {
      "cell_type": "code",
      "execution_count": 2,
      "metadata": {
        "id": "R40B_l3a8luy"
      },
      "outputs": [],
      "source": [
        "# Data manipulation\n",
        "import pandas as pd\n",
        "import numpy as np\n",
        "\n",
        "# Data visualization\n",
        "import matplotlib.pyplot as plt\n",
        "import seaborn as sns\n",
        "\n",
        "# Preprocessing\n",
        "from sklearn.model_selection import train_test_split\n",
        "from sklearn.impute import SimpleImputer\n",
        "from sklearn.preprocessing import StandardScaler, OneHotEncoder\n",
        "from sklearn.compose import ColumnTransformer\n",
        "from sklearn.pipeline import Pipeline\n",
        "\n",
        "# Model selection and evaluation\n",
        "from sklearn.ensemble import RandomForestClassifier, GradientBoostingClassifier\n",
        "from sklearn.linear_model import LogisticRegression\n",
        "from sklearn.metrics import accuracy_score, confusion_matrix, classification_report\n",
        "\n",
        "# Hyperparameter tuning\n",
        "from sklearn.model_selection import GridSearchCV, RandomizedSearchCV\n",
        "\n",
        "# Cross-validation\n",
        "from sklearn.model_selection import cross_val_score\n",
        "\n",
        "# Feature importance (for tree-based models)\n",
        "from sklearn.inspection import permutation_importance\n",
        "\n",
        "# Saving models\n",
        "import joblib\n"
      ]
    },
    {
      "cell_type": "code",
      "execution_count": 3,
      "metadata": {
        "colab": {
          "base_uri": "https://localhost:8080/"
        },
        "id": "2KYziSsh80JT",
        "outputId": "e0110b70-9b0c-4cb3-b172-471b0238095e"
      },
      "outputs": [
        {
          "name": "stdout",
          "output_type": "stream",
          "text": [
            "  PassengerId HomePlanet CryoSleep  Cabin  Destination   Age    VIP  \\\n",
            "0     0001_01     Europa     False  B/0/P  TRAPPIST-1e  39.0  False   \n",
            "1     0002_01      Earth     False  F/0/S  TRAPPIST-1e  24.0  False   \n",
            "2     0003_01     Europa     False  A/0/S  TRAPPIST-1e  58.0   True   \n",
            "3     0003_02     Europa     False  A/0/S  TRAPPIST-1e  33.0  False   \n",
            "4     0004_01      Earth     False  F/1/S  TRAPPIST-1e  16.0  False   \n",
            "\n",
            "   RoomService  FoodCourt  ShoppingMall     Spa  VRDeck               Name  \\\n",
            "0          0.0        0.0           0.0     0.0     0.0    Maham Ofracculy   \n",
            "1        109.0        9.0          25.0   549.0    44.0       Juanna Vines   \n",
            "2         43.0     3576.0           0.0  6715.0    49.0      Altark Susent   \n",
            "3          0.0     1283.0         371.0  3329.0   193.0       Solam Susent   \n",
            "4        303.0       70.0         151.0   565.0     2.0  Willy Santantines   \n",
            "\n",
            "   Transported  \n",
            "0        False  \n",
            "1         True  \n",
            "2        False  \n",
            "3        False  \n",
            "4         True  \n",
            "  PassengerId HomePlanet CryoSleep  Cabin  Destination   Age    VIP  \\\n",
            "0     0013_01      Earth      True  G/3/S  TRAPPIST-1e  27.0  False   \n",
            "1     0018_01      Earth     False  F/4/S  TRAPPIST-1e  19.0  False   \n",
            "2     0019_01     Europa      True  C/0/S  55 Cancri e  31.0  False   \n",
            "3     0021_01     Europa     False  C/1/S  TRAPPIST-1e  38.0  False   \n",
            "4     0023_01      Earth     False  F/5/S  TRAPPIST-1e  20.0  False   \n",
            "\n",
            "   RoomService  FoodCourt  ShoppingMall     Spa  VRDeck              Name  \n",
            "0          0.0        0.0           0.0     0.0     0.0   Nelly Carsoning  \n",
            "1          0.0        9.0           0.0  2823.0     0.0    Lerome Peckers  \n",
            "2          0.0        0.0           0.0     0.0     0.0   Sabih Unhearfus  \n",
            "3          0.0     6652.0           0.0   181.0   585.0  Meratz Caltilter  \n",
            "4         10.0        0.0         635.0     0.0     0.0   Brence Harperez  \n"
          ]
        }
      ],
      "source": [
        "# Load data\n",
        "train_data = pd.read_csv(\"train.csv\")\n",
        "test_data = pd.read_csv(\"test.csv\")\n",
        "\n",
        "# Overview of the data\n",
        "print(train_data.head())\n",
        "print(test_data.head())"
      ]
    },
    {
      "cell_type": "code",
      "execution_count": 4,
      "metadata": {},
      "outputs": [],
      "source": [
        "# Drop unnecessary columns\n",
        "columns_to_drop = [\"Destination\", \"VIP\",\"Name\"]\n",
        "train_data_cleaned = train_data.drop(columns=columns_to_drop)\n",
        "test_data_cleaned = test_data.drop(columns=columns_to_drop)\n"
      ]
    },
    {
      "cell_type": "code",
      "execution_count": 5,
      "metadata": {},
      "outputs": [
        {
          "name": "stdout",
          "output_type": "stream",
          "text": [
            "  PassengerId HomePlanet CryoSleep  Cabin   Age  RoomService  FoodCourt  \\\n",
            "0     0001_01     Europa     False  B/0/P  39.0          0.0        0.0   \n",
            "1     0002_01      Earth     False  F/0/S  24.0        109.0        9.0   \n",
            "2     0003_01     Europa     False  A/0/S  58.0         43.0     3576.0   \n",
            "3     0003_02     Europa     False  A/0/S  33.0          0.0     1283.0   \n",
            "4     0004_01      Earth     False  F/1/S  16.0        303.0       70.0   \n",
            "\n",
            "   ShoppingMall     Spa  VRDeck  Transported  \n",
            "0           0.0     0.0     0.0        False  \n",
            "1          25.0   549.0    44.0         True  \n",
            "2           0.0  6715.0    49.0        False  \n",
            "3         371.0  3329.0   193.0        False  \n",
            "4         151.0   565.0     2.0         True  \n",
            "  PassengerId HomePlanet CryoSleep  Cabin   Age  RoomService  FoodCourt  \\\n",
            "0     0013_01      Earth      True  G/3/S  27.0          0.0        0.0   \n",
            "1     0018_01      Earth     False  F/4/S  19.0          0.0        9.0   \n",
            "2     0019_01     Europa      True  C/0/S  31.0          0.0        0.0   \n",
            "3     0021_01     Europa     False  C/1/S  38.0          0.0     6652.0   \n",
            "4     0023_01      Earth     False  F/5/S  20.0         10.0        0.0   \n",
            "\n",
            "   ShoppingMall     Spa  VRDeck  \n",
            "0           0.0     0.0     0.0  \n",
            "1           0.0  2823.0     0.0  \n",
            "2           0.0     0.0     0.0  \n",
            "3           0.0   181.0   585.0  \n",
            "4         635.0     0.0     0.0  \n"
          ]
        }
      ],
      "source": [
        "print(train_data_cleaned.head())\n",
        "print(test_data_cleaned.head())"
      ]
    },
    {
      "cell_type": "code",
      "execution_count": 26,
      "metadata": {},
      "outputs": [
        {
          "data": {
            "image/png": "[encoded data removed]",
            "text/plain": [
              "<Figure size 1000x600 with 1 Axes>"
            ]
          },
          "metadata": {},
          "output_type": "display_data"
        }
      ],
      "source": [
        "# Combine train and test data for visualization purposes\n",
        "combined_data = pd.concat([train_data_cleaned], axis=0, ignore_index=True)\n",
        "\n",
        "# Plot missing values\n",
        "plt.figure(figsize=(10, 6))\n",
        "sns.heatmap(combined_data.isnull(), cbar=False, cmap=\"viridis\", yticklabels=False)\n",
        "plt.title(\"Missing Values in the Dataset\")\n",
        "plt.show()"
      ]
    },
    {
      "cell_type": "markdown",
      "metadata": {},
      "source": [
        "Handling Missing Values"
      ]
    },
    {
      "cell_type": "code",
      "execution_count": 7,
      "metadata": {},
      "outputs": [],
      "source": [
        "\n",
        "mean_age = train_data_cleaned['Age'].mean()\n",
        "train_data_cleaned['Age'].fillna(mean_age, inplace=True)\n",
        "\n",
        "# Fill missing values in 'HomePlanet' with the mode (Earth)\n",
        "train_data_cleaned['HomePlanet'].fillna('Earth', inplace=True)\n"
      ]
    },
    {
      "cell_type": "code",
      "execution_count": 9,
      "metadata": {},
      "outputs": [],
      "source": [
        "# Define a function to impute CryoSleep based on amenities usage\n",
        "def impute_cryosleep(row):\n",
        "    # Check if any of the amenities have a spending greater than 0\n",
        "    if row[['RoomService', 'FoodCourt', 'ShoppingMall', 'Spa', 'VRDeck']].sum() == 0:\n",
        "        return True  # No spending, likely in CryoSleep\n",
        "    else:\n",
        "        return False  # Spent money, likely not in CryoSleep\n",
        "\n",
        "# Apply the function to handle missing CryoSleep values\n",
        "train_data_cleaned['CryoSleep'] = train_data_cleaned.apply(\n",
        "    lambda row: impute_cryosleep(row) if pd.isnull(row['CryoSleep']) else row['CryoSleep'], axis=1\n",
        ")"
      ]
    },
    {
      "cell_type": "code",
      "execution_count": 14,
      "metadata": {},
      "outputs": [
        {
          "name": "stdout",
          "output_type": "stream",
          "text": [
            "0    0001\n",
            "1    0002\n",
            "2    0003\n",
            "3    0003\n",
            "4    0004\n",
            "Name: GroupID, dtype: object\n"
          ]
        }
      ],
      "source": [
        "# Extract GroupID from PassengerId\n",
        "#train_data_cleaned['GroupID'] = train_data_cleaned['PassengerId'].str.split('_').str[0]\n",
        "\n",
        "print(train_data_cleaned['GroupID'].head())\n"
      ]
    },
    {
      "cell_type": "code",
      "execution_count": 12,
      "metadata": {},
      "outputs": [],
      "source": [
        "#Drop 'PassengerId' and keep 'GroupID' for modeling purposes\n",
        "#train_data_cleaned.drop('PassengerId', axis=1, inplace=True)"
      ]
    },
    {
      "cell_type": "code",
      "execution_count": 16,
      "metadata": {},
      "outputs": [],
      "source": [
        "# For missing 'Cabin', assign the same cabin as another passenger in the same group or a default value if no cabins are available\n",
        "def impute_cabin(row):\n",
        "    if pd.isnull(row['Cabin']):\n",
        "        group_id = row['GroupID']\n",
        "        # Get non-null cabins for the same group\n",
        "        group_cabin_values = train_data_cleaned[train_data_cleaned['GroupID'] == group_id]['Cabin'].dropna()\n",
        "        \n",
        "        if not group_cabin_values.empty:\n",
        "            # If there are non-null cabins, assign the first one\n",
        "            return group_cabin_values.iloc[0]\n",
        "        else:\n",
        "            # If there are no non-null cabins in the group, assign 'Unknown'\n",
        "            return 'Unknown'\n",
        "    else:\n",
        "        return row['Cabin']\n",
        "\n",
        "# Apply the function to handle missing 'Cabin' values\n",
        "train_data_cleaned['Cabin'] = train_data_cleaned.apply(impute_cabin, axis=1)\n"
      ]
    },
    {
      "cell_type": "code",
      "execution_count": 21,
      "metadata": {},
      "outputs": [],
      "source": [
        "# Set values for amenities to 0 for passengers in CryoSleep\n",
        "train_data_cleaned.loc[train_data_cleaned['CryoSleep'] == True, \n",
        "                       ['RoomService', 'FoodCourt', 'ShoppingMall', 'Spa', 'VRDeck']] = 0"
      ]
    },
    {
      "cell_type": "code",
      "execution_count": 23,
      "metadata": {},
      "outputs": [],
      "source": [
        "# Combine the 5 amenities columns into one binary column 'Amenities'\n",
        "train_data_cleaned['Amenities'] = train_data_cleaned[['RoomService', 'FoodCourt', 'ShoppingMall', 'Spa', 'VRDeck']].apply(\n",
        "    lambda row: 1 if (row > 0).any() else 0, axis=1)\n"
      ]
    },
    {
      "cell_type": "code",
      "execution_count": 25,
      "metadata": {},
      "outputs": [],
      "source": [
        "# Drop the original amenity columns\n",
        "train_data_cleaned.drop(['RoomService', 'FoodCourt', 'ShoppingMall', 'Spa', 'VRDeck'], axis=1, inplace=True)"
      ]
    },
    {
      "cell_type": "code",
      "execution_count": 41,
      "metadata": {},
      "outputs": [
        {
          "name": "stdout",
          "output_type": "stream",
          "text": [
            "  HomePlanet  CryoSleep   Age  Transported GroupID  Amenities  DeckRank  \\\n",
            "0     Europa          0  39.0            0    0001          0         1   \n",
            "1      Earth          0  24.0            1    0002          1         6   \n",
            "2     Europa          0  58.0            0    0003          1         4   \n",
            "3     Europa          0  33.0            0    0003          1         4   \n",
            "4      Earth          0  16.0            1    0004          1         6   \n",
            "5      Earth          0  44.0            1    0005          1         6   \n",
            "6      Earth          0  26.0            1    0006          1         6   \n",
            "7      Earth          1  28.0            1    0006          0         3   \n",
            "8      Earth          0  35.0            1    0007          1         6   \n",
            "9     Europa          1  14.0            1    0008          0         1   \n",
            "\n",
            "   SideRank  \n",
            "0       2.0  \n",
            "1       1.0  \n",
            "2       1.0  \n",
            "3       1.0  \n",
            "4       1.0  \n",
            "5       2.0  \n",
            "6       1.0  \n",
            "7       1.0  \n",
            "8       1.0  \n",
            "9       2.0  \n"
          ]
        }
      ],
      "source": [
        "print(train_data_cleaned.head(10))"
      ]
    },
    {
      "cell_type": "code",
      "execution_count": 28,
      "metadata": {},
      "outputs": [],
      "source": [
        "# Convert 'CryoSleep' and 'Transported' columns to numeric (1 and 0)\n",
        "train_data_cleaned['CryoSleep'] = train_data_cleaned['CryoSleep'].astype(int)\n",
        "train_data_cleaned['Transported'] = train_data_cleaned['Transported'].astype(int)\n"
      ]
    },
    {
      "cell_type": "code",
      "execution_count": 31,
      "metadata": {},
      "outputs": [],
      "source": [
        "# Split 'Cabin' into 'Deck' and 'Side'\n",
        "train_data_cleaned['Deck'] = train_data_cleaned['Cabin'].str.split('/').str[0]  # Extract deck\n",
        "train_data_cleaned['Side'] = train_data_cleaned['Cabin'].str.split('/').str[2]  # Extract side\n",
        "\n",
        "# Drop the original 'Cabin' column\n",
        "train_data_cleaned.drop(columns=['Cabin'], inplace=True)"
      ]
    },
    {
      "cell_type": "code",
      "execution_count": 33,
      "metadata": {},
      "outputs": [],
      "source": [
        "# Calculate danger ranking for Deck\n",
        "deck_danger = train_data_cleaned.groupby('Deck')['Transported'].mean().sort_values(ascending=False).reset_index()\n",
        "deck_danger['DangerRank'] = range(1, len(deck_danger) + 1)\n",
        "\n",
        "# Map the danger rank back to the Deck column\n",
        "deck_rank_map = dict(zip(deck_danger['Deck'], deck_danger['DangerRank']))\n",
        "train_data_cleaned['DeckRank'] = train_data_cleaned['Deck'].map(deck_rank_map)"
      ]
    },
    {
      "cell_type": "markdown",
      "metadata": {},
      "source": []
    }
  ],
  "metadata": {
    "colab": {
      "provenance": []
    },
    "kernelspec": {
      "display_name": "Python 3",
      "name": "python3"
    },
    "language_info": {
      "codemirror_mode": {
        "name": "ipython",
        "version": 3
      },
      "file_extension": ".py",
      "mimetype": "text/x-python",
      "name": "python",
      "nbconvert_exporter": "python",
      "pygments_lexer": "ipython3",
      "version": "3.12.1"
    }
  },
  "nbformat": 4,
  "nbformat_minor": 0
}
